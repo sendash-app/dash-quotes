{
 "cells": [
  {
   "cell_type": "markdown",
   "metadata": {},
   "source": [
    "# Preliminaries and Enter Your Ticker Here!"
   ]
  },
  {
   "cell_type": "code",
   "execution_count": 1,
   "metadata": {},
   "outputs": [],
   "source": [
    "import numpy as np\n",
    "import pandas as pd\n",
    "\n",
    "symbol = 'FB'"
   ]
  },
  {
   "cell_type": "markdown",
   "metadata": {},
   "source": [
    "## Leading Indicators Prices"
   ]
  },
  {
   "cell_type": "code",
   "execution_count": 190,
   "metadata": {},
   "outputs": [
    {
     "data": {
      "text/plain": [
       "{'QQQ': 168.23, 'SPY': 270.14}"
      ]
     },
     "execution_count": 190,
     "metadata": {},
     "output_type": "execute_result"
    }
   ],
   "source": [
    "from iexfinance.stocks import Stock\n",
    "\n",
    "indicators = ['SPY', 'QQQ']\n",
    "batch = Stock( indicators )\n",
    "batch.get_price()"
   ]
  },
  {
   "cell_type": "code",
   "execution_count": 191,
   "metadata": {},
   "outputs": [
    {
     "name": "stdout",
     "output_type": "stream",
     "text": [
      "---SPY---\n",
      "Last: 270.14\n",
      "% Change: -0.00953\n",
      "---QQQ---\n",
      "Last: 168.23\n",
      "% Change: -0.01343\n"
     ]
    }
   ],
   "source": [
    "quotes = batch.get_quote()\n",
    "DisplayDict = {\n",
    "    'Last': 'latestPrice',\n",
    "    '% Change': 'changePercent'\n",
    "}\n",
    "\n",
    "for sym in indicators:\n",
    "    print(f'---{sym}---')\n",
    "    for display in DisplayDict:\n",
    "        print( f'{display}: {quotes[sym][DisplayDict[display]]}')"
   ]
  },
  {
   "cell_type": "code",
   "execution_count": 194,
   "metadata": {},
   "outputs": [
    {
     "data": {
      "text/plain": [
       "{'QQQ': {'asks': [],\n",
       "  'bids': [],\n",
       "  'quote': {'avgTotalVolume': 50174531,\n",
       "   'calculationPrice': 'close',\n",
       "   'change': -2.29,\n",
       "   'changePercent': -0.01343,\n",
       "   'close': 168.23,\n",
       "   'closeTime': 1549573200213,\n",
       "   'companyName': 'Invesco QQQ Trust Series 1',\n",
       "   'delayedPrice': 168.23,\n",
       "   'delayedPriceTime': 1549573200250,\n",
       "   'extendedChange': -0.13,\n",
       "   'extendedChangePercent': -0.00077,\n",
       "   'extendedPrice': 168.1,\n",
       "   'extendedPriceTime': 1549576788700,\n",
       "   'high': 169.45,\n",
       "   'iexAskPrice': 0,\n",
       "   'iexAskSize': 0,\n",
       "   'iexBidPrice': 0,\n",
       "   'iexBidSize': 0,\n",
       "   'iexLastUpdated': 1549576788700,\n",
       "   'iexMarketPercent': 0.0096,\n",
       "   'iexRealtimePrice': 168.1,\n",
       "   'iexRealtimeSize': 800,\n",
       "   'iexVolume': 402305,\n",
       "   'latestPrice': 168.23,\n",
       "   'latestSource': 'Close',\n",
       "   'latestTime': 'February 7, 2019',\n",
       "   'latestUpdate': 1549573200213,\n",
       "   'latestVolume': 41906771,\n",
       "   'low': 166.95,\n",
       "   'marketCap': 64852665000,\n",
       "   'open': 168.94,\n",
       "   'openTime': 1549549800941,\n",
       "   'peRatio': None,\n",
       "   'previousClose': 170.52,\n",
       "   'primaryExchange': 'NASDAQ Global Market',\n",
       "   'sector': '',\n",
       "   'symbol': 'QQQ',\n",
       "   'week52High': 187.53,\n",
       "   'week52Low': 143.46,\n",
       "   'ytdChange': 0.07276576446280988},\n",
       "  'systemEvent': {'systemEvent': 'C', 'timestamp': 1549577400000},\n",
       "  'trades': [{'isISO': True,\n",
       "    'isOddLot': False,\n",
       "    'isOutsideRegularHours': True,\n",
       "    'isSinglePriceCross': False,\n",
       "    'isTradeThroughExempt': False,\n",
       "    'price': 168.1,\n",
       "    'size': 800,\n",
       "    'timestamp': 1549576788700,\n",
       "    'tradeId': 1138727350},\n",
       "   {'isISO': False,\n",
       "    'isOddLot': False,\n",
       "    'isOutsideRegularHours': True,\n",
       "    'isSinglePriceCross': False,\n",
       "    'isTradeThroughExempt': False,\n",
       "    'price': 168.31,\n",
       "    'size': 100,\n",
       "    'timestamp': 1549573768386,\n",
       "    'tradeId': 1135912474},\n",
       "   {'isISO': False,\n",
       "    'isOddLot': False,\n",
       "    'isOutsideRegularHours': True,\n",
       "    'isSinglePriceCross': False,\n",
       "    'isTradeThroughExempt': False,\n",
       "    'price': 168.31,\n",
       "    'size': 100,\n",
       "    'timestamp': 1549573767154,\n",
       "    'tradeId': 1135911299},\n",
       "   {'isISO': False,\n",
       "    'isOddLot': False,\n",
       "    'isOutsideRegularHours': True,\n",
       "    'isSinglePriceCross': False,\n",
       "    'isTradeThroughExempt': False,\n",
       "    'price': 168.31,\n",
       "    'size': 100,\n",
       "    'timestamp': 1549573766560,\n",
       "    'tradeId': 1135911245},\n",
       "   {'isISO': False,\n",
       "    'isOddLot': False,\n",
       "    'isOutsideRegularHours': True,\n",
       "    'isSinglePriceCross': False,\n",
       "    'isTradeThroughExempt': False,\n",
       "    'price': 168.25,\n",
       "    'size': 800,\n",
       "    'timestamp': 1549573468994,\n",
       "    'tradeId': 1135702609},\n",
       "   {'isISO': False,\n",
       "    'isOddLot': True,\n",
       "    'isOutsideRegularHours': True,\n",
       "    'isSinglePriceCross': False,\n",
       "    'isTradeThroughExempt': False,\n",
       "    'price': 168.32,\n",
       "    'size': 50,\n",
       "    'timestamp': 1549573316687,\n",
       "    'tradeId': 1135491448},\n",
       "   {'isISO': True,\n",
       "    'isOddLot': False,\n",
       "    'isOutsideRegularHours': False,\n",
       "    'isSinglePriceCross': False,\n",
       "    'isTradeThroughExempt': False,\n",
       "    'price': 168.23,\n",
       "    'size': 200,\n",
       "    'timestamp': 1549573199955,\n",
       "    'tradeId': 1134711936},\n",
       "   {'isISO': True,\n",
       "    'isOddLot': False,\n",
       "    'isOutsideRegularHours': False,\n",
       "    'isSinglePriceCross': False,\n",
       "    'isTradeThroughExempt': False,\n",
       "    'price': 168.23,\n",
       "    'size': 300,\n",
       "    'timestamp': 1549573199807,\n",
       "    'tradeId': 1134662928},\n",
       "   {'isISO': False,\n",
       "    'isOddLot': False,\n",
       "    'isOutsideRegularHours': False,\n",
       "    'isSinglePriceCross': False,\n",
       "    'isTradeThroughExempt': False,\n",
       "    'price': 168.24,\n",
       "    'size': 100,\n",
       "    'timestamp': 1549573199758,\n",
       "    'tradeId': 1134646570},\n",
       "   {'isISO': True,\n",
       "    'isOddLot': False,\n",
       "    'isOutsideRegularHours': False,\n",
       "    'isSinglePriceCross': False,\n",
       "    'isTradeThroughExempt': False,\n",
       "    'price': 168.23,\n",
       "    'size': 300,\n",
       "    'timestamp': 1549573196827,\n",
       "    'tradeId': 1134009581},\n",
       "   {'isISO': True,\n",
       "    'isOddLot': False,\n",
       "    'isOutsideRegularHours': False,\n",
       "    'isSinglePriceCross': False,\n",
       "    'isTradeThroughExempt': False,\n",
       "    'price': 168.23,\n",
       "    'size': 400,\n",
       "    'timestamp': 1549573196827,\n",
       "    'tradeId': 1134009575},\n",
       "   {'isISO': False,\n",
       "    'isOddLot': False,\n",
       "    'isOutsideRegularHours': False,\n",
       "    'isSinglePriceCross': False,\n",
       "    'isTradeThroughExempt': False,\n",
       "    'price': 168.23,\n",
       "    'size': 400,\n",
       "    'timestamp': 1549573196697,\n",
       "    'tradeId': 1133976825},\n",
       "   {'isISO': False,\n",
       "    'isOddLot': False,\n",
       "    'isOutsideRegularHours': False,\n",
       "    'isSinglePriceCross': False,\n",
       "    'isTradeThroughExempt': False,\n",
       "    'price': 168.23,\n",
       "    'size': 400,\n",
       "    'timestamp': 1549573196697,\n",
       "    'tradeId': 1133976816},\n",
       "   {'isISO': False,\n",
       "    'isOddLot': False,\n",
       "    'isOutsideRegularHours': False,\n",
       "    'isSinglePriceCross': False,\n",
       "    'isTradeThroughExempt': False,\n",
       "    'price': 168.23,\n",
       "    'size': 400,\n",
       "    'timestamp': 1549573196697,\n",
       "    'tradeId': 1133976804},\n",
       "   {'isISO': False,\n",
       "    'isOddLot': False,\n",
       "    'isOutsideRegularHours': False,\n",
       "    'isSinglePriceCross': False,\n",
       "    'isTradeThroughExempt': False,\n",
       "    'price': 168.22,\n",
       "    'size': 800,\n",
       "    'timestamp': 1549573193700,\n",
       "    'tradeId': 1133253832},\n",
       "   {'isISO': False,\n",
       "    'isOddLot': False,\n",
       "    'isOutsideRegularHours': False,\n",
       "    'isSinglePriceCross': False,\n",
       "    'isTradeThroughExempt': False,\n",
       "    'price': 168.22,\n",
       "    'size': 400,\n",
       "    'timestamp': 1549573193700,\n",
       "    'tradeId': 1133253824},\n",
       "   {'isISO': False,\n",
       "    'isOddLot': False,\n",
       "    'isOutsideRegularHours': False,\n",
       "    'isSinglePriceCross': False,\n",
       "    'isTradeThroughExempt': False,\n",
       "    'price': 168.22,\n",
       "    'size': 200,\n",
       "    'timestamp': 1549573193700,\n",
       "    'tradeId': 1133253819},\n",
       "   {'isISO': False,\n",
       "    'isOddLot': False,\n",
       "    'isOutsideRegularHours': False,\n",
       "    'isSinglePriceCross': False,\n",
       "    'isTradeThroughExempt': False,\n",
       "    'price': 168.19,\n",
       "    'size': 191,\n",
       "    'timestamp': 1549573183675,\n",
       "    'tradeId': 1131490065},\n",
       "   {'isISO': False,\n",
       "    'isOddLot': False,\n",
       "    'isOutsideRegularHours': False,\n",
       "    'isSinglePriceCross': False,\n",
       "    'isTradeThroughExempt': False,\n",
       "    'price': 168.18,\n",
       "    'size': 100,\n",
       "    'timestamp': 1549573183373,\n",
       "    'tradeId': 1131424246},\n",
       "   {'isISO': True,\n",
       "    'isOddLot': False,\n",
       "    'isOutsideRegularHours': False,\n",
       "    'isSinglePriceCross': False,\n",
       "    'isTradeThroughExempt': False,\n",
       "    'price': 168.17,\n",
       "    'size': 200,\n",
       "    'timestamp': 1549573180955,\n",
       "    'tradeId': 1130982775}]},\n",
       " 'SPY': {'asks': [],\n",
       "  'bids': [],\n",
       "  'quote': {'avgTotalVolume': 109673886,\n",
       "   'calculationPrice': 'close',\n",
       "   'change': -2.6,\n",
       "   'changePercent': -0.00953,\n",
       "   'close': 270.14,\n",
       "   'closeTime': 1549573200563,\n",
       "   'companyName': 'SPDR S&P 500',\n",
       "   'delayedPrice': 270.14,\n",
       "   'delayedPriceTime': 1549573800002,\n",
       "   'extendedChange': -0.11,\n",
       "   'extendedChangePercent': -0.00041,\n",
       "   'extendedPrice': 270.03,\n",
       "   'extendedPriceTime': 1549576799234,\n",
       "   'high': 271.55,\n",
       "   'iexAskPrice': 0,\n",
       "   'iexAskSize': 0,\n",
       "   'iexBidPrice': 0,\n",
       "   'iexBidSize': 0,\n",
       "   'iexLastUpdated': 1549576035169,\n",
       "   'iexMarketPercent': 0.0151,\n",
       "   'iexRealtimePrice': 270.01,\n",
       "   'iexRealtimeSize': 100,\n",
       "   'iexVolume': 1436312,\n",
       "   'latestPrice': 270.14,\n",
       "   'latestSource': 'Close',\n",
       "   'latestTime': 'February 7, 2019',\n",
       "   'latestUpdate': 1549573200563,\n",
       "   'latestVolume': 95120000,\n",
       "   'low': 268.29,\n",
       "   'marketCap': 251103805816,\n",
       "   'open': 270.93,\n",
       "   'openTime': 1549549800107,\n",
       "   'peRatio': None,\n",
       "   'previousClose': 272.74,\n",
       "   'primaryExchange': 'NYSE Arca',\n",
       "   'sector': '',\n",
       "   'symbol': 'SPY',\n",
       "   'week52High': 293.94,\n",
       "   'week52Low': 233.76,\n",
       "   'ytdChange': 0.07025255655927724},\n",
       "  'systemEvent': {'systemEvent': 'C', 'timestamp': 1549577400000},\n",
       "  'trades': [{'isISO': True,\n",
       "    'isOddLot': False,\n",
       "    'isOutsideRegularHours': True,\n",
       "    'isSinglePriceCross': False,\n",
       "    'isTradeThroughExempt': False,\n",
       "    'price': 270.01,\n",
       "    'size': 100,\n",
       "    'timestamp': 1549576035169,\n",
       "    'tradeId': 1137981748},\n",
       "   {'isISO': False,\n",
       "    'isOddLot': False,\n",
       "    'isOutsideRegularHours': True,\n",
       "    'isSinglePriceCross': False,\n",
       "    'isTradeThroughExempt': False,\n",
       "    'price': 270.02,\n",
       "    'size': 104,\n",
       "    'timestamp': 1549575123425,\n",
       "    'tradeId': 1136641936},\n",
       "   {'isISO': False,\n",
       "    'isOddLot': True,\n",
       "    'isOutsideRegularHours': True,\n",
       "    'isSinglePriceCross': False,\n",
       "    'isTradeThroughExempt': False,\n",
       "    'price': 270.07,\n",
       "    'size': 10,\n",
       "    'timestamp': 1549575071011,\n",
       "    'tradeId': 1136472911},\n",
       "   {'isISO': True,\n",
       "    'isOddLot': False,\n",
       "    'isOutsideRegularHours': True,\n",
       "    'isSinglePriceCross': False,\n",
       "    'isTradeThroughExempt': False,\n",
       "    'price': 270.13,\n",
       "    'size': 500,\n",
       "    'timestamp': 1549575001761,\n",
       "    'tradeId': 1136452120},\n",
       "   {'isISO': True,\n",
       "    'isOddLot': False,\n",
       "    'isOutsideRegularHours': True,\n",
       "    'isSinglePriceCross': False,\n",
       "    'isTradeThroughExempt': False,\n",
       "    'price': 270.13,\n",
       "    'size': 100,\n",
       "    'timestamp': 1549575001571,\n",
       "    'tradeId': 1136452038},\n",
       "   {'isISO': True,\n",
       "    'isOddLot': True,\n",
       "    'isOutsideRegularHours': True,\n",
       "    'isSinglePriceCross': False,\n",
       "    'isTradeThroughExempt': False,\n",
       "    'price': 270.13,\n",
       "    'size': 95,\n",
       "    'timestamp': 1549575001426,\n",
       "    'tradeId': 1136451918},\n",
       "   {'isISO': False,\n",
       "    'isOddLot': False,\n",
       "    'isOutsideRegularHours': False,\n",
       "    'isSinglePriceCross': False,\n",
       "    'isTradeThroughExempt': False,\n",
       "    'price': 270.2,\n",
       "    'size': 100,\n",
       "    'timestamp': 1549573199744,\n",
       "    'tradeId': 1134642452},\n",
       "   {'isISO': True,\n",
       "    'isOddLot': False,\n",
       "    'isOutsideRegularHours': False,\n",
       "    'isSinglePriceCross': False,\n",
       "    'isTradeThroughExempt': False,\n",
       "    'price': 270.22,\n",
       "    'size': 100,\n",
       "    'timestamp': 1549573199699,\n",
       "    'tradeId': 1134631463},\n",
       "   {'isISO': True,\n",
       "    'isOddLot': False,\n",
       "    'isOutsideRegularHours': False,\n",
       "    'isSinglePriceCross': False,\n",
       "    'isTradeThroughExempt': False,\n",
       "    'price': 270.23,\n",
       "    'size': 400,\n",
       "    'timestamp': 1549573199198,\n",
       "    'tradeId': 1134526355},\n",
       "   {'isISO': True,\n",
       "    'isOddLot': False,\n",
       "    'isOutsideRegularHours': False,\n",
       "    'isSinglePriceCross': False,\n",
       "    'isTradeThroughExempt': False,\n",
       "    'price': 270.23,\n",
       "    'size': 400,\n",
       "    'timestamp': 1549573199172,\n",
       "    'tradeId': 1134517842},\n",
       "   {'isISO': False,\n",
       "    'isOddLot': False,\n",
       "    'isOutsideRegularHours': False,\n",
       "    'isSinglePriceCross': False,\n",
       "    'isTradeThroughExempt': False,\n",
       "    'price': 270.25,\n",
       "    'size': 400,\n",
       "    'timestamp': 1549573199030,\n",
       "    'tradeId': 1134474678},\n",
       "   {'isISO': True,\n",
       "    'isOddLot': False,\n",
       "    'isOutsideRegularHours': False,\n",
       "    'isSinglePriceCross': False,\n",
       "    'isTradeThroughExempt': True,\n",
       "    'price': 270.25,\n",
       "    'size': 400,\n",
       "    'timestamp': 1549573199028,\n",
       "    'tradeId': 1134472220},\n",
       "   {'isISO': True,\n",
       "    'isOddLot': False,\n",
       "    'isOutsideRegularHours': False,\n",
       "    'isSinglePriceCross': False,\n",
       "    'isTradeThroughExempt': False,\n",
       "    'price': 270.23,\n",
       "    'size': 400,\n",
       "    'timestamp': 1549573199009,\n",
       "    'tradeId': 1134452832},\n",
       "   {'isISO': True,\n",
       "    'isOddLot': True,\n",
       "    'isOutsideRegularHours': False,\n",
       "    'isSinglePriceCross': False,\n",
       "    'isTradeThroughExempt': False,\n",
       "    'price': 270.23,\n",
       "    'size': 45,\n",
       "    'timestamp': 1549573198802,\n",
       "    'tradeId': 1134405419},\n",
       "   {'isISO': True,\n",
       "    'isOddLot': False,\n",
       "    'isOutsideRegularHours': False,\n",
       "    'isSinglePriceCross': False,\n",
       "    'isTradeThroughExempt': False,\n",
       "    'price': 270.19,\n",
       "    'size': 200,\n",
       "    'timestamp': 1549573198210,\n",
       "    'tradeId': 1134292627},\n",
       "   {'isISO': True,\n",
       "    'isOddLot': False,\n",
       "    'isOutsideRegularHours': False,\n",
       "    'isSinglePriceCross': False,\n",
       "    'isTradeThroughExempt': False,\n",
       "    'price': 270.2,\n",
       "    'size': 400,\n",
       "    'timestamp': 1549573197845,\n",
       "    'tradeId': 1134213169},\n",
       "   {'isISO': True,\n",
       "    'isOddLot': False,\n",
       "    'isOutsideRegularHours': False,\n",
       "    'isSinglePriceCross': False,\n",
       "    'isTradeThroughExempt': False,\n",
       "    'price': 270.2,\n",
       "    'size': 400,\n",
       "    'timestamp': 1549573197845,\n",
       "    'tradeId': 1134213164},\n",
       "   {'isISO': False,\n",
       "    'isOddLot': True,\n",
       "    'isOutsideRegularHours': False,\n",
       "    'isSinglePriceCross': False,\n",
       "    'isTradeThroughExempt': False,\n",
       "    'price': 270.21,\n",
       "    'size': 9,\n",
       "    'timestamp': 1549573197590,\n",
       "    'tradeId': 1134165837},\n",
       "   {'isISO': False,\n",
       "    'isOddLot': True,\n",
       "    'isOutsideRegularHours': False,\n",
       "    'isSinglePriceCross': False,\n",
       "    'isTradeThroughExempt': False,\n",
       "    'price': 270.21,\n",
       "    'size': 30,\n",
       "    'timestamp': 1549573197516,\n",
       "    'tradeId': 1134157230},\n",
       "   {'isISO': True,\n",
       "    'isOddLot': False,\n",
       "    'isOutsideRegularHours': False,\n",
       "    'isSinglePriceCross': False,\n",
       "    'isTradeThroughExempt': False,\n",
       "    'price': 270.17,\n",
       "    'size': 400,\n",
       "    'timestamp': 1549573195397,\n",
       "    'tradeId': 1133717501}]}}"
      ]
     },
     "execution_count": 194,
     "metadata": {},
     "output_type": "execute_result"
    }
   ],
   "source": [
    "batch.get_book()"
   ]
  },
  {
   "cell_type": "markdown",
   "metadata": {},
   "source": [
    "## Stock Description"
   ]
  },
  {
   "cell_type": "code",
   "execution_count": 7,
   "metadata": {},
   "outputs": [],
   "source": [
    "from iexfinance.stocks import Stock\n",
    "\n",
    "myStock = Stock(symbol)"
   ]
  },
  {
   "cell_type": "code",
   "execution_count": 8,
   "metadata": {},
   "outputs": [
    {
     "name": "stdout",
     "output_type": "stream",
     "text": [
      "--- Company Description ---\n",
      "companyName: Facebook Inc.\n",
      "description: Facebook Inc is the world's largest online social network. Its products are Facebook, Instagram, Messenger, WhatsApp, and Oculus. Its products enable people to connect and share through mobile devices and personal computers.\n",
      "exchange: Nasdaq Global Select\n"
     ]
    }
   ],
   "source": [
    "info = myStock.get_company()\n",
    "lKeyInfo = ['companyName', 'description', 'exchange']\n",
    "\n",
    "print('--- Company Description ---')\n",
    "for key in lKeyInfo:\n",
    "    print(f'{key}: {info[key]}')"
   ]
  },
  {
   "cell_type": "code",
   "execution_count": 30,
   "metadata": {},
   "outputs": [
    {
     "name": "stdout",
     "output_type": "stream",
     "text": [
      "--- Key Stats ---\n",
      "beta: 0.913787\n",
      "dividendRate: 0\n",
      "exDividendDate: 0\n",
      "priceToBook: 5.62\n",
      "priceToSales: 8.604919\n",
      "sharesOutstanding: 2853989800\n",
      "week52high: 218.62\n",
      "week52low: 123.02\n"
     ]
    }
   ],
   "source": [
    "stats = myStock.get_key_stats()\n",
    "lKeyStats = [ 'beta', 'dividendRate', 'exDividendDate',\n",
    "            'priceToBook', 'priceToSales', 'sharesOutstanding',\n",
    "            'week52high', 'week52low']\n",
    "\n",
    "print('--- Key Stats ---')\n",
    "for key in lKeyStats:\n",
    "    print( f'{key}: {stats[key]}')"
   ]
  },
  {
   "cell_type": "code",
   "execution_count": 31,
   "metadata": {},
   "outputs": [
    {
     "data": {
      "image/png": "[encoded data removed]",
      "text/plain": [
       "<IPython.core.display.Image object>"
      ]
     },
     "execution_count": 31,
     "metadata": {},
     "output_type": "execute_result"
    }
   ],
   "source": [
    "logo = myStock.get_logo()\n",
    "\n",
    "from IPython.display import Image\n",
    "Image(logo['url'])"
   ]
  },
  {
   "cell_type": "markdown",
   "metadata": {},
   "source": [
    "## Market Book\n",
    "**Need to be tested during market hours**"
   ]
  },
  {
   "cell_type": "code",
   "execution_count": 18,
   "metadata": {},
   "outputs": [],
   "source": [
    "myStock = Stock(symbol)\n",
    "book = myStock.get_book()\n",
    "\n",
    "def PrintBidAsk(quote_dict):\n",
    "    if not quote_dict['bids'] or not quote_dict['asks']:\n",
    "        data = quote_dict['quote']\n",
    "        for side in ['Bid', 'Ask']:\n",
    "            price = data[f'iex{side}Price']\n",
    "            size = data[f'iex{side}Size']\n",
    "            \n",
    "            print(f'Last {side}: {price} x {size}')\n",
    "        \n",
    "        print(f'Updated at: {data[\"iexLastUpdated\"]}')\n",
    "    \n",
    "    else:   # Show Live Bid Ask\n",
    "        for side in ['bids', 'asks']:\n",
    "            price = quote_dict[side][0]['price']\n",
    "            size = quote_dict[side][0]['size']\n",
    "            \n",
    "            print(f'{side}: {price} x {size}')"
   ]
  },
  {
   "cell_type": "code",
   "execution_count": 19,
   "metadata": {},
   "outputs": [
    {
     "name": "stdout",
     "output_type": "stream",
     "text": [
      "Last Bid: 0 x 0\n",
      "Last Ask: 0 x 0\n",
      "Updated at: 1549313999952\n"
     ]
    }
   ],
   "source": [
    "PrintBidAsk(book)"
   ]
  },
  {
   "cell_type": "code",
   "execution_count": 17,
   "metadata": {},
   "outputs": [
    {
     "data": {
      "text/plain": [
       "{'asks': [{'price': 166.43, 'size': 200, 'timestamp': 1549292661171},\n",
       "  {'price': 168, 'size': 121, 'timestamp': 1549291229030},\n",
       "  {'price': 170.48, 'size': 100, 'timestamp': 1549290943007},\n",
       "  {'price': 172.09, 'size': 100, 'timestamp': 1549290601954},\n",
       "  {'price': 175, 'size': 100, 'timestamp': 1549290602657},\n",
       "  {'price': 178, 'size': 300, 'timestamp': 1549290602660},\n",
       "  {'price': 180, 'size': 200, 'timestamp': 1549290602651},\n",
       "  {'price': 200, 'size': 250, 'timestamp': 1549290601922}],\n",
       " 'bids': [{'price': 166.35, 'size': 100, 'timestamp': 1549292662974},\n",
       "  {'price': 166.31, 'size': 100, 'timestamp': 1549292650016},\n",
       "  {'price': 120, 'size': 100, 'timestamp': 1549290606899},\n",
       "  {'price': 98.44, 'size': 112, 'timestamp': 1549290600062}],\n",
       " 'quote': {'avgTotalVolume': 28528671,\n",
       "  'calculationPrice': 'tops',\n",
       "  'change': 0.72,\n",
       "  'changePercent': 0.00434,\n",
       "  'close': 165.71,\n",
       "  'closeTime': 1549054800529,\n",
       "  'companyName': 'Facebook Inc.',\n",
       "  'delayedPrice': 166.57,\n",
       "  'delayedPriceTime': 1549291760628,\n",
       "  'extendedChange': 0,\n",
       "  'extendedChangePercent': 0,\n",
       "  'extendedPrice': 166.43,\n",
       "  'extendedPriceTime': 1549292647165,\n",
       "  'high': 166.95,\n",
       "  'iexAskPrice': 166.43,\n",
       "  'iexAskSize': 200,\n",
       "  'iexBidPrice': 166.35,\n",
       "  'iexBidSize': 100,\n",
       "  'iexLastUpdated': 1549292647165,\n",
       "  'iexMarketPercent': 0.01744,\n",
       "  'iexRealtimePrice': 166.43,\n",
       "  'iexRealtimeSize': 200,\n",
       "  'iexVolume': 57935,\n",
       "  'latestPrice': 166.43,\n",
       "  'latestSource': 'IEX real time price',\n",
       "  'latestTime': '10:04:07 AM',\n",
       "  'latestUpdate': 1549292647165,\n",
       "  'latestVolume': 3321961,\n",
       "  'low': 163.62,\n",
       "  'marketCap': 474989522414,\n",
       "  'open': 165.55,\n",
       "  'openTime': 1549290601006,\n",
       "  'peRatio': 21.99,\n",
       "  'previousClose': 165.71,\n",
       "  'primaryExchange': 'Nasdaq Global Select',\n",
       "  'sector': 'Technology',\n",
       "  'symbol': 'FB',\n",
       "  'week52High': 218.62,\n",
       "  'week52Low': 123.02,\n",
       "  'ytdChange': 0.22566959905660378},\n",
       " 'systemEvent': {'systemEvent': 'R', 'timestamp': 1549290600000},\n",
       " 'trades': [{'isISO': False,\n",
       "   'isOddLot': False,\n",
       "   'isOutsideRegularHours': False,\n",
       "   'isSinglePriceCross': False,\n",
       "   'isTradeThroughExempt': False,\n",
       "   'price': 166.43,\n",
       "   'size': 200,\n",
       "   'timestamp': 1549292647165,\n",
       "   'tradeId': 111044911},\n",
       "  {'isISO': True,\n",
       "   'isOddLot': False,\n",
       "   'isOutsideRegularHours': False,\n",
       "   'isSinglePriceCross': False,\n",
       "   'isTradeThroughExempt': False,\n",
       "   'price': 166.41,\n",
       "   'size': 100,\n",
       "   'timestamp': 1549292647165,\n",
       "   'tradeId': 111044630},\n",
       "  {'isISO': True,\n",
       "   'isOddLot': True,\n",
       "   'isOutsideRegularHours': False,\n",
       "   'isSinglePriceCross': False,\n",
       "   'isTradeThroughExempt': False,\n",
       "   'price': 166.5,\n",
       "   'size': 2,\n",
       "   'timestamp': 1549292614408,\n",
       "   'tradeId': 109537607},\n",
       "  {'isISO': False,\n",
       "   'isOddLot': False,\n",
       "   'isOutsideRegularHours': False,\n",
       "   'isSinglePriceCross': False,\n",
       "   'isTradeThroughExempt': False,\n",
       "   'price': 166.49,\n",
       "   'size': 100,\n",
       "   'timestamp': 1549292594625,\n",
       "   'tradeId': 108447259},\n",
       "  {'isISO': False,\n",
       "   'isOddLot': True,\n",
       "   'isOutsideRegularHours': False,\n",
       "   'isSinglePriceCross': False,\n",
       "   'isTradeThroughExempt': False,\n",
       "   'price': 166.46,\n",
       "   'size': 3,\n",
       "   'timestamp': 1549292592594,\n",
       "   'tradeId': 108321398},\n",
       "  {'isISO': False,\n",
       "   'isOddLot': False,\n",
       "   'isOutsideRegularHours': False,\n",
       "   'isSinglePriceCross': False,\n",
       "   'isTradeThroughExempt': False,\n",
       "   'price': 166.465,\n",
       "   'size': 100,\n",
       "   'timestamp': 1549292590719,\n",
       "   'tradeId': 108201718},\n",
       "  {'isISO': False,\n",
       "   'isOddLot': False,\n",
       "   'isOutsideRegularHours': False,\n",
       "   'isSinglePriceCross': False,\n",
       "   'isTradeThroughExempt': False,\n",
       "   'price': 166.46,\n",
       "   'size': 200,\n",
       "   'timestamp': 1549292588256,\n",
       "   'tradeId': 108071200},\n",
       "  {'isISO': True,\n",
       "   'isOddLot': False,\n",
       "   'isOutsideRegularHours': False,\n",
       "   'isSinglePriceCross': False,\n",
       "   'isTradeThroughExempt': False,\n",
       "   'price': 166.46,\n",
       "   'size': 100,\n",
       "   'timestamp': 1549292587794,\n",
       "   'tradeId': 108040005},\n",
       "  {'isISO': False,\n",
       "   'isOddLot': True,\n",
       "   'isOutsideRegularHours': False,\n",
       "   'isSinglePriceCross': False,\n",
       "   'isTradeThroughExempt': False,\n",
       "   'price': 166.385,\n",
       "   'size': 25,\n",
       "   'timestamp': 1549292584312,\n",
       "   'tradeId': 107766494},\n",
       "  {'isISO': True,\n",
       "   'isOddLot': False,\n",
       "   'isOutsideRegularHours': False,\n",
       "   'isSinglePriceCross': False,\n",
       "   'isTradeThroughExempt': False,\n",
       "   'price': 166.38,\n",
       "   'size': 100,\n",
       "   'timestamp': 1549292571534,\n",
       "   'tradeId': 107214496},\n",
       "  {'isISO': False,\n",
       "   'isOddLot': True,\n",
       "   'isOutsideRegularHours': False,\n",
       "   'isSinglePriceCross': False,\n",
       "   'isTradeThroughExempt': False,\n",
       "   'price': 166.355,\n",
       "   'size': 20,\n",
       "   'timestamp': 1549292567954,\n",
       "   'tradeId': 107089486},\n",
       "  {'isISO': False,\n",
       "   'isOddLot': False,\n",
       "   'isOutsideRegularHours': False,\n",
       "   'isSinglePriceCross': False,\n",
       "   'isTradeThroughExempt': False,\n",
       "   'price': 166.36,\n",
       "   'size': 200,\n",
       "   'timestamp': 1549292565965,\n",
       "   'tradeId': 106998024},\n",
       "  {'isISO': False,\n",
       "   'isOddLot': False,\n",
       "   'isOutsideRegularHours': False,\n",
       "   'isSinglePriceCross': False,\n",
       "   'isTradeThroughExempt': False,\n",
       "   'price': 166.03,\n",
       "   'size': 200,\n",
       "   'timestamp': 1549292510474,\n",
       "   'tradeId': 104129860},\n",
       "  {'isISO': False,\n",
       "   'isOddLot': False,\n",
       "   'isOutsideRegularHours': False,\n",
       "   'isSinglePriceCross': False,\n",
       "   'isTradeThroughExempt': False,\n",
       "   'price': 166.03,\n",
       "   'size': 200,\n",
       "   'timestamp': 1549292510468,\n",
       "   'tradeId': 104129661},\n",
       "  {'isISO': False,\n",
       "   'isOddLot': False,\n",
       "   'isOutsideRegularHours': False,\n",
       "   'isSinglePriceCross': False,\n",
       "   'isTradeThroughExempt': False,\n",
       "   'price': 166.035,\n",
       "   'size': 200,\n",
       "   'timestamp': 1549292509582,\n",
       "   'tradeId': 104081220},\n",
       "  {'isISO': False,\n",
       "   'isOddLot': False,\n",
       "   'isOutsideRegularHours': False,\n",
       "   'isSinglePriceCross': False,\n",
       "   'isTradeThroughExempt': False,\n",
       "   'price': 166.035,\n",
       "   'size': 700,\n",
       "   'timestamp': 1549292509581,\n",
       "   'tradeId': 104081084},\n",
       "  {'isISO': False,\n",
       "   'isOddLot': False,\n",
       "   'isOutsideRegularHours': False,\n",
       "   'isSinglePriceCross': False,\n",
       "   'isTradeThroughExempt': False,\n",
       "   'price': 166.035,\n",
       "   'size': 200,\n",
       "   'timestamp': 1549292509581,\n",
       "   'tradeId': 104081079},\n",
       "  {'isISO': True,\n",
       "   'isOddLot': True,\n",
       "   'isOutsideRegularHours': False,\n",
       "   'isSinglePriceCross': False,\n",
       "   'isTradeThroughExempt': False,\n",
       "   'price': 166.04,\n",
       "   'size': 48,\n",
       "   'timestamp': 1549292486068,\n",
       "   'tradeId': 102517737},\n",
       "  {'isISO': True,\n",
       "   'isOddLot': True,\n",
       "   'isOutsideRegularHours': False,\n",
       "   'isSinglePriceCross': False,\n",
       "   'isTradeThroughExempt': False,\n",
       "   'price': 166.03,\n",
       "   'size': 2,\n",
       "   'timestamp': 1549292486068,\n",
       "   'tradeId': 102517731},\n",
       "  {'isISO': False,\n",
       "   'isOddLot': False,\n",
       "   'isOutsideRegularHours': False,\n",
       "   'isSinglePriceCross': False,\n",
       "   'isTradeThroughExempt': False,\n",
       "   'price': 165.91,\n",
       "   'size': 100,\n",
       "   'timestamp': 1549292480514,\n",
       "   'tradeId': 102086064}]}"
      ]
     },
     "execution_count": 17,
     "metadata": {},
     "output_type": "execute_result"
    }
   ],
   "source": [
    "book"
   ]
  },
  {
   "cell_type": "markdown",
   "metadata": {},
   "source": [
    "## Intraday Time Series Tick Data for Consecutive Dates\n",
    "* for pandas ploting [this](http://jonathansoma.com/lede/algorithms-2017/classes/fuzziness-matplotlib/how-pandas-uses-matplotlib-plus-figures-axes-and-subplots/) was helpful\n",
    "* for DateTime objects manipulation, [this](http://strftime.org/) is a good reference"
   ]
  },
  {
   "cell_type": "code",
   "execution_count": 66,
   "metadata": {},
   "outputs": [],
   "source": [
    "from datetime import datetime, timedelta, date\n",
    "from iexfinance.stocks import get_historical_intraday\n",
    "import matplotlib.pyplot as plt\n",
    "plt.style.use('fivethirtyeight')\n",
    "\n",
    "tdate = datetime(2019,2,4)\n",
    "#tdate_neg1 = tdate - timedelta( days = 3)\n",
    "tdate_neg1 = MarketDateAdj( tdate, -1, 'NYSE')\n",
    "\n",
    "tdata = get_historical_intraday(symbol, tdate, output_format = 'pandas')\n",
    "tdata_neg1 = get_historical_intraday(symbol, tdate_neg1, output_format = 'pandas')"
   ]
  },
  {
   "cell_type": "code",
   "execution_count": 70,
   "metadata": {},
   "outputs": [
    {
     "data": {
      "image/png": "[encoded data removed]",
      "text/plain": [
       "<Figure size 1440x720 with 2 Axes>"
      ]
     },
     "metadata": {},
     "output_type": "display_data"
    }
   ],
   "source": [
    "tdata.index = pd.DatetimeIndex( tdata.index )\n",
    "tdata_neg1.index = pd.DatetimeIndex( tdata_neg1.index)\n",
    "\n",
    "plot_dict = {\n",
    "    tdate_neg1 : tdata_neg1,\n",
    "    tdate : tdata\n",
    "}\n",
    "\n",
    "#tdata.plot(y = 'close', title = f'{symbol} {tdate.strftime(\"%d %b %y\")}')\n",
    "\n",
    "for i, idate in enumerate(plot_dict):\n",
    "    ax = plt.subplot(1,2, i+1) \n",
    "    plot_dict[idate].plot( y = 'close', \n",
    "                          title = f'{symbol} | {idate.strftime(\"%a, %d %b %y\")}', \n",
    "                         ax = ax, figsize = (20,10),\n",
    "                         sharey = True)"
   ]
  },
  {
   "cell_type": "markdown",
   "metadata": {},
   "source": [
    "### Let's join the two Dates' intraday prices into one DF"
   ]
  },
  {
   "cell_type": "code",
   "execution_count": 109,
   "metadata": {},
   "outputs": [],
   "source": [
    "def DatePlusTime( DateObj, TimeObj):\n",
    "    '''\n",
    "    return a DateTime object\n",
    "    \n",
    "    requires datetime, time, and timedelta\n",
    "    '''\n",
    "    tdelta = datetime.combine( date.min, TimeObj) - datetime.min\n",
    "    return DateObj  + tdelta\n",
    "\n",
    "# Turning Time of the DF into DateTime\n",
    "tdata['DT'] = tdata.index\n",
    "tdata['DT'] = tdata['DT'].apply(lambda x : DatePlusTime(tdate ,x.time()))\n",
    "\n",
    "tdata_neg1['DT'] = tdata_neg1.index\n",
    "tdata_neg1['DT'] = tdata_neg1['DT'].apply(lambda x : DatePlusTime(tdate_neg1 ,x.time()))\n",
    "\n",
    "# Concat the two day\n",
    "l_col = ['DT', 'close']\n",
    "data = pd.concat([tdata[l_col], tdata_neg1[l_col]])\n",
    "data.index = data['DT']"
   ]
  },
  {
   "cell_type": "code",
   "execution_count": 112,
   "metadata": {},
   "outputs": [
    {
     "data": {
      "text/plain": [
       "<matplotlib.axes._subplots.AxesSubplot at 0x11ca25cc0>"
      ]
     },
     "execution_count": 112,
     "metadata": {},
     "output_type": "execute_result"
    },
    {
     "data": {
      "image/png": "[encoded data removed]",
      "text/plain": [
       "<Figure size 1440x720 with 1 Axes>"
      ]
     },
     "metadata": {},
     "output_type": "display_data"
    }
   ],
   "source": [
    "data['close'].plot(figsize=(20,10))"
   ]
  },
  {
   "cell_type": "markdown",
   "metadata": {},
   "source": [
    "# Market Time and Date Adjust\n",
    "Let's install some preliminary packages:\n",
    "* `pandas_market_calendars` [git](https://github.com/rsheftel/pandas_market_calendars) [doc](https://pandas-market-calendars.readthedocs.io/en/latest/usage.html)"
   ]
  },
  {
   "cell_type": "code",
   "execution_count": 3,
   "metadata": {},
   "outputs": [],
   "source": [
    "from datetime import datetime, time\n",
    "import pandas_market_calendars as mcal\n",
    "import pytz"
   ]
  },
  {
   "cell_type": "markdown",
   "metadata": {},
   "source": [
    "## UTC Time Convert\n",
    "[Here's](https://www.timeanddate.com/time/aboututc.html) a definition of UTC Time\n",
    "\n",
    "Function `TimeConvert` inspired by this [stackoverflow post](https://stackoverflow.com/questions/48416511/how-to-convert-utc-to-est-with-python-and-take-care-of-daylight-saving-automatic?noredirect=1&lq=1)\n",
    "\n",
    "`pytz` documentation is available [here](http://pytz.sourceforge.net/)"
   ]
  },
  {
   "cell_type": "code",
   "execution_count": 21,
   "metadata": {},
   "outputs": [],
   "source": [
    "def TimeConvert( inDateTime, OutZone):\n",
    "    from datetime import datetime\n",
    "    import pytz\n",
    "    \n",
    "    #from_zone = pytz.utc\n",
    "    to_zone = pytz.timezone(OutZone)\n",
    "    \n",
    "    return inDateTime.astimezone(to_zone)"
   ]
  },
  {
   "cell_type": "markdown",
   "metadata": {},
   "source": [
    "let's get a time to test"
   ]
  },
  {
   "cell_type": "code",
   "execution_count": 22,
   "metadata": {},
   "outputs": [
    {
     "name": "stdout",
     "output_type": "stream",
     "text": [
      "Our UTC Time is 07 Feb 19 05:00 \n"
     ]
    }
   ],
   "source": [
    "myStock = Stock(symbol)\n",
    "book = myStock.get_book()\n",
    "utc_timestamp = book['quote']['closeTime']\n",
    "utc_datetime = datetime.fromtimestamp(utc_timestamp / 1e3)\n",
    "\n",
    "print(f'Our UTC Time is {utc_datetime.strftime(\"%d %b %y %H:%M %Z\")}')\n",
    "# %Z is silent if object is naive"
   ]
  },
  {
   "cell_type": "code",
   "execution_count": 23,
   "metadata": {},
   "outputs": [
    {
     "name": "stdout",
     "output_type": "stream",
     "text": [
      "Our EST Time is 06 Feb 19 16:00 EST\n"
     ]
    }
   ],
   "source": [
    "est_datetime = TimeConvert(utc_datetime, 'US/Eastern')\n",
    "print(f'Our EST Time is {est_datetime.strftime(\"%d %b %y %H:%M %Z\")}')"
   ]
  },
  {
   "cell_type": "markdown",
   "metadata": {},
   "source": [
    "## Is Market Open"
   ]
  },
  {
   "cell_type": "code",
   "execution_count": 7,
   "metadata": {},
   "outputs": [],
   "source": [
    "def IsMarketOpen(DateTimeObj, ExchangeName):\n",
    "    import pandas_market_calendars as mcal\n",
    "    from pandas.tseries.offsets import BDay\n",
    "    \n",
    "    mkt = mcal.get_calendar(ExchangeName)\n",
    "    tDate = DateTimeObj.date()\n",
    "    dateRange = pd.bdate_range( start = tDate - BDay(1), end = tDate + BDay(1))\n",
    "    mkt_hours = mkt.schedule( start_date = dateRange[0], end_date = dateRange[-1])\n",
    "    \n",
    "    return mkt.open_at_time( schedule = mkt_hours, timestamp = DateTimeObj, include_close = True)"
   ]
  },
  {
   "cell_type": "code",
   "execution_count": 8,
   "metadata": {},
   "outputs": [
    {
     "data": {
      "text/plain": [
       "False"
      ]
     },
     "execution_count": 8,
     "metadata": {},
     "output_type": "execute_result"
    }
   ],
   "source": [
    "IsMarketOpen( datetime(2019, 2, 18, 13,4, tzinfo = pytz.timezone('US/Eastern')), 'NYSE')"
   ]
  },
  {
   "cell_type": "code",
   "execution_count": 9,
   "metadata": {},
   "outputs": [
    {
     "data": {
      "text/plain": [
       "True"
      ]
     },
     "execution_count": 9,
     "metadata": {},
     "output_type": "execute_result"
    }
   ],
   "source": [
    "IsMarketOpen( datetime(2019, 2, 19, 22,34, tzinfo = pytz.timezone(pytz.country_timezones('HK')[0])), 'NYSE')"
   ]
  },
  {
   "cell_type": "markdown",
   "metadata": {},
   "source": [
    "## Market Date Adjust"
   ]
  },
  {
   "cell_type": "code",
   "execution_count": 10,
   "metadata": {},
   "outputs": [],
   "source": [
    "def MarketDateAdj( DateObj, IntBusinessDays , ExchangeName):\n",
    "    from datetime import datetime, time, timedelta\n",
    "    import pandas_market_calendars as mcal\n",
    "    from pandas.tseries.offsets import BDay\n",
    "    \n",
    "    mkt = mcal.get_calendar(ExchangeName)\n",
    "    holidays = mkt.holidays()\n",
    "    \n",
    "    inDay = DateObj.date()\n",
    "    outDay = inDay + BDay(IntBusinessDays)\n",
    "    \n",
    "    while outDay in holidays.holidays:\n",
    "        outDay += BDay( np.sign(IntBusinessDays) * 1)\n",
    "\n",
    "    return outDay\n",
    "    "
   ]
  },
  {
   "cell_type": "markdown",
   "metadata": {},
   "source": [
    "Time for a test, `Feb 18, 2019` is a market holiday in NYSE"
   ]
  },
  {
   "cell_type": "code",
   "execution_count": 11,
   "metadata": {},
   "outputs": [
    {
     "data": {
      "text/plain": [
       "Timestamp('2019-02-19 00:00:00')"
      ]
     },
     "execution_count": 11,
     "metadata": {},
     "output_type": "execute_result"
    }
   ],
   "source": [
    "newdate = MarketDateAdj( datetime(2019, 2, 7), IntBusinessDays= 7, ExchangeName='NYSE')\n",
    "newdate"
   ]
  },
  {
   "cell_type": "markdown",
   "metadata": {},
   "source": [
    "## Market Timer\n",
    "`days_hours_mins_secs` from this [source](https://stackoverflow.com/questions/2119472/convert-a-timedelta-to-days-hours-and-minutes)"
   ]
  },
  {
   "cell_type": "code",
   "execution_count": 175,
   "metadata": {},
   "outputs": [],
   "source": [
    "def days_hours_mins_secs( TimeDeltaObj):\n",
    "    '''\n",
    "    Note that in Python 3 // is for integer division\n",
    "    '''\n",
    "    td = TimeDeltaObj\n",
    "    hours, remainder = divmod( td.seconds, 3600)\n",
    "    minutes, seconds = divmod( remainder, 60)\n",
    "\n",
    "    return td.days, hours, minutes, seconds\n",
    "\n",
    "def GetTimeToMktOpen( DateTimeObj, ExchangeName, debugmode = False):\n",
    "    import pandas_market_calendars as mcal\n",
    "    from datetime import timedelta\n",
    "    \n",
    "    # let's standardize time to UTC\n",
    "    dt_now = TimeConvert(DateTimeObj, 'UTC')\n",
    "    mkt = mcal.get_calendar(ExchangeName)\n",
    "    sch = mkt.schedule( start_date = dt_now.date(), \n",
    "                           end_date = MarketDateAdj(dt_now, 1, ExchangeName))\n",
    "    \n",
    "    close_time = sch['market_close'][0]\n",
    "    \n",
    "    # determine today's open or next day's open\n",
    "    l_which_open = [h > dt_now for h in sch['market_open']]\n",
    "    if l_which_open[0]:\n",
    "        open_time = sch['market_open'][0]\n",
    "    else:\n",
    "        open_time = sch['market_open'][1]\n",
    "    \n",
    "    if IsMarketOpen(DateTimeObj, ExchangeName):\n",
    "        # Show Time to Market Close\n",
    "        tdelta = close_time.to_pydatetime() - dt_now\n",
    "        \n",
    "        if debugmode :\n",
    "            print( f'--- Market is Open ---\\nClose Time is {close_time}, Time Now is {dt_now}')\n",
    "        \n",
    "        return { 'status': 'open', 'd-h-m-s': days_hours_mins_secs(tdelta)}\n",
    "    else:\n",
    "        # Show Time to Next Market Open\n",
    "        tdelta = open_time.to_pydatetime() - dt_now\n",
    "        if debugmode :\n",
    "            print( f'--- Market is Closed ---\\nNext Open Time is {open_time}, Time Now is {dt_now}')\n",
    "            print( f'\\n--- Market Open Time ---\\n{sch[\"market_open\"]}')\n",
    "            \n",
    "        return { 'status': 'closed', 'd-h-m-s': days_hours_mins_secs(tdelta)}"
   ]
  },
  {
   "cell_type": "markdown",
   "metadata": {},
   "source": [
    "### let's test if it works during market hours"
   ]
  },
  {
   "cell_type": "code",
   "execution_count": 176,
   "metadata": {},
   "outputs": [
    {
     "name": "stdout",
     "output_type": "stream",
     "text": [
      "--- Market is Open ---\n",
      "Close Time is 2019-02-07 21:00:00+00:00, Time Now is 2019-02-07 14:31:00+00:00\n"
     ]
    },
    {
     "data": {
      "text/plain": [
       "{'d-h-m-s': (0, 6, 29, 0), 'status': 'open'}"
      ]
     },
     "execution_count": 176,
     "metadata": {},
     "output_type": "execute_result"
    }
   ],
   "source": [
    "# right after Market Open\n",
    "dt_now = datetime(2019, 2, 7, 9, 35, tzinfo = pytz.timezone('US/Eastern'))#datetime.now(pytz.utc)\n",
    "GetTimeToMktOpen( dt_now, 'NYSE', debugmode= True)"
   ]
  },
  {
   "cell_type": "code",
   "execution_count": 177,
   "metadata": {},
   "outputs": [
    {
     "name": "stdout",
     "output_type": "stream",
     "text": [
      "--- Market is Open ---\n",
      "Close Time is 2019-02-07 21:00:00+00:00, Time Now is 2019-02-07 20:55:00+00:00\n"
     ]
    },
    {
     "data": {
      "text/plain": [
       "{'d-h-m-s': (0, 0, 5, 0), 'status': 'open'}"
      ]
     },
     "execution_count": 177,
     "metadata": {},
     "output_type": "execute_result"
    }
   ],
   "source": [
    "# right before Market Close\n",
    "dt_now = datetime(2019, 2, 7, 15, 59, tzinfo = pytz.timezone('US/Eastern'))#datetime.now(pytz.utc)\n",
    "GetTimeToMktOpen( dt_now, 'NYSE', debugmode= True)"
   ]
  },
  {
   "cell_type": "markdown",
   "metadata": {},
   "source": [
    "### let's test when market is closed"
   ]
  },
  {
   "cell_type": "code",
   "execution_count": 178,
   "metadata": {},
   "outputs": [
    {
     "name": "stdout",
     "output_type": "stream",
     "text": [
      "--- Market is Closed ---\n",
      "Next Open Time is 2019-02-07 14:30:00+00:00, Time Now is 2019-02-07 14:25:00+00:00\n",
      "\n",
      "--- Market Open Time ---\n",
      "2019-02-07   2019-02-07 14:30:00+00:00\n",
      "2019-02-08   2019-02-08 14:30:00+00:00\n",
      "Freq: C, Name: market_open, dtype: datetime64[ns, UTC]\n"
     ]
    },
    {
     "data": {
      "text/plain": [
       "{'d-h-m-s': (0, 0, 5, 0), 'status': 'closed'}"
      ]
     },
     "execution_count": 178,
     "metadata": {},
     "output_type": "execute_result"
    }
   ],
   "source": [
    "# just before open\n",
    "dt_now = datetime(2019, 2, 7, 9, 29, tzinfo = pytz.timezone('US/Eastern'))#datetime.now(pytz.utc)\n",
    "GetTimeToMktOpen( dt_now, 'NYSE', debugmode= True)"
   ]
  },
  {
   "cell_type": "code",
   "execution_count": 179,
   "metadata": {},
   "outputs": [
    {
     "name": "stdout",
     "output_type": "stream",
     "text": [
      "--- Market is Closed ---\n",
      "Next Open Time is 2019-02-08 14:30:00+00:00, Time Now is 2019-02-07 21:01:00+00:00\n",
      "\n",
      "--- Market Open Time ---\n",
      "2019-02-07   2019-02-07 14:30:00+00:00\n",
      "2019-02-08   2019-02-08 14:30:00+00:00\n",
      "Freq: C, Name: market_open, dtype: datetime64[ns, UTC]\n"
     ]
    },
    {
     "data": {
      "text/plain": [
       "{'d-h-m-s': (0, 17, 29, 0), 'status': 'closed'}"
      ]
     },
     "execution_count": 179,
     "metadata": {},
     "output_type": "execute_result"
    }
   ],
   "source": [
    "# just after close\n",
    "dt_now = datetime(2019, 2, 7, 16, 5, tzinfo = pytz.timezone('US/Eastern'))#datetime.now(pytz.utc)\n",
    "GetTimeToMktOpen( dt_now, 'NYSE', debugmode= True)"
   ]
  },
  {
   "cell_type": "markdown",
   "metadata": {},
   "source": [
    "how about now"
   ]
  },
  {
   "cell_type": "code",
   "execution_count": 180,
   "metadata": {},
   "outputs": [
    {
     "name": "stdout",
     "output_type": "stream",
     "text": [
      "--- Market is Closed ---\n",
      "Next Open Time is 2019-02-08 14:30:00+00:00, Time Now is 2019-02-08 03:06:48.880538+00:00\n",
      "\n",
      "--- Market Open Time ---\n",
      "2019-02-08   2019-02-08 14:30:00+00:00\n",
      "2019-02-11   2019-02-11 14:30:00+00:00\n",
      "Freq: C, Name: market_open, dtype: datetime64[ns, UTC]\n"
     ]
    },
    {
     "data": {
      "text/plain": [
       "{'d-h-m-s': (0, 11, 23, 11), 'status': 'closed'}"
      ]
     },
     "execution_count": 180,
     "metadata": {},
     "output_type": "execute_result"
    }
   ],
   "source": [
    "dt_now = datetime.now(pytz.utc)\n",
    "GetTimeToMktOpen( dt_now, 'NYSE', debugmode= True)"
   ]
  },
  {
   "cell_type": "markdown",
   "metadata": {},
   "source": [
    "### Market Clock Live Demo"
   ]
  },
  {
   "cell_type": "code",
   "execution_count": 189,
   "metadata": {
    "scrolled": true
   },
   "outputs": [
    {
     "name": "stdout",
     "output_type": "stream",
     "text": [
      "11:12:37 until NYSE open\n"
     ]
    }
   ],
   "source": [
    "exchange = 'NYSE'\n",
    "MktTimeDict = GetTimeToMktOpen( datetime.now(pytz.utc), exchange)\n",
    "d,h,m,s = MktTimeDict['d-h-m-s']\n",
    "\n",
    "if MktTimeDict['status'] == 'open':\n",
    "    nextAction = f'until {exchange} close'\n",
    "else:\n",
    "    nextAction = f'until {exchange} open'\n",
    "\n",
    "msg = f'{h}:{m}:{s}'\n",
    "if d > 0:\n",
    "    msg = f'{d} days {msg}'\n",
    "    \n",
    "print(f'{msg} {nextAction}')"
   ]
  },
  {
   "cell_type": "code",
   "execution_count": null,
   "metadata": {},
   "outputs": [],
   "source": []
  }
 ],
 "metadata": {
  "kernelspec": {
   "display_name": "Python 3",
   "language": "python",
   "name": "python3"
  },
  "language_info": {
   "codemirror_mode": {
    "name": "ipython",
    "version": 3
   },
   "file_extension": ".py",
   "mimetype": "text/x-python",
   "name": "python",
   "nbconvert_exporter": "python",
   "pygments_lexer": "ipython3",
   "version": "3.6.3"
  }
 },
 "nbformat": 4,
 "nbformat_minor": 2
}

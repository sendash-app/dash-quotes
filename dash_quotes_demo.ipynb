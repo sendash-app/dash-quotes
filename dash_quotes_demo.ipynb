{
 "cells": [
  {
   "cell_type": "markdown",
   "metadata": {},
   "source": [
    "# Preliminaries and Enter Your Ticker Here!"
   ]
  },
  {
   "cell_type": "code",
   "execution_count": 27,
   "metadata": {},
   "outputs": [],
   "source": [
    "import numpy as np\n",
    "import pandas as pd\n",
    "\n",
    "symbol = 'FB'"
   ]
  },
  {
   "cell_type": "markdown",
   "metadata": {},
   "source": [
    "## Leading Indicators Prices"
   ]
  },
  {
   "cell_type": "code",
   "execution_count": 9,
   "metadata": {},
   "outputs": [
    {
     "data": {
      "text/plain": [
       "{'QQQ': 167.45, 'SPY': 270.06}"
      ]
     },
     "execution_count": 9,
     "metadata": {},
     "output_type": "execute_result"
    }
   ],
   "source": [
    "from iexfinance.stocks import Stock\n",
    "\n",
    "indicators = ['SPY', 'QQQ']\n",
    "batch = Stock( indicators )\n",
    "batch.get_price()"
   ]
  },
  {
   "cell_type": "code",
   "execution_count": 22,
   "metadata": {},
   "outputs": [
    {
     "name": "stdout",
     "output_type": "stream",
     "text": [
      "---SPY---\n",
      "Last: 270.06\n",
      "% Change: 0.00048\n",
      "---QQQ---\n",
      "Last: 167.45\n",
      "% Change: -0.00422\n"
     ]
    }
   ],
   "source": [
    "quotes = batch.get_quote()\n",
    "DisplayDict = {\n",
    "    'Last': 'latestPrice',\n",
    "    '% Change': 'changePercent'\n",
    "}\n",
    "\n",
    "for sym in indicators:\n",
    "    print(f'---{sym}---')\n",
    "    for display in DisplayDict:\n",
    "        print( f'{display}: {quotes[sym][DisplayDict[display]]}')"
   ]
  },
  {
   "cell_type": "markdown",
   "metadata": {},
   "source": [
    "## Stock Description"
   ]
  },
  {
   "cell_type": "code",
   "execution_count": 28,
   "metadata": {},
   "outputs": [],
   "source": [
    "from iexfinance.stocks import Stock\n",
    "\n",
    "myStock = Stock(symbol)"
   ]
  },
  {
   "cell_type": "code",
   "execution_count": 29,
   "metadata": {},
   "outputs": [
    {
     "name": "stdout",
     "output_type": "stream",
     "text": [
      "--- Company Description ---\n",
      "companyName: Facebook Inc.\n",
      "description: Facebook Inc is the world's largest online social network. Its products are Facebook, Instagram, Messenger, WhatsApp, and Oculus. Its products enable people to connect and share through mobile devices and personal computers.\n",
      "exchange: Nasdaq Global Select\n"
     ]
    }
   ],
   "source": [
    "info = myStock.get_company()\n",
    "lKeyInfo = ['companyName', 'description', 'exchange']\n",
    "\n",
    "print('--- Company Description ---')\n",
    "for key in lKeyInfo:\n",
    "    print(f'{key}: {info[key]}')"
   ]
  },
  {
   "cell_type": "code",
   "execution_count": 30,
   "metadata": {},
   "outputs": [
    {
     "name": "stdout",
     "output_type": "stream",
     "text": [
      "--- Key Stats ---\n",
      "beta: 0.913787\n",
      "dividendRate: 0\n",
      "exDividendDate: 0\n",
      "priceToBook: 5.62\n",
      "priceToSales: 8.604919\n",
      "sharesOutstanding: 2853989800\n",
      "week52high: 218.62\n",
      "week52low: 123.02\n"
     ]
    }
   ],
   "source": [
    "stats = myStock.get_key_stats()\n",
    "lKeyStats = [ 'beta', 'dividendRate', 'exDividendDate',\n",
    "            'priceToBook', 'priceToSales', 'sharesOutstanding',\n",
    "            'week52high', 'week52low']\n",
    "\n",
    "print('--- Key Stats ---')\n",
    "for key in lKeyStats:\n",
    "    print( f'{key}: {stats[key]}')"
   ]
  },
  {
   "cell_type": "code",
   "execution_count": 31,
   "metadata": {},
   "outputs": [
    {
     "data": {
      "image/png": "[encoded data removed]",
      "text/plain": [
       "<IPython.core.display.Image object>"
      ]
     },
     "execution_count": 31,
     "metadata": {},
     "output_type": "execute_result"
    }
   ],
   "source": [
    "logo = myStock.get_logo()\n",
    "\n",
    "from IPython.display import Image\n",
    "Image(logo['url'])"
   ]
  },
  {
   "cell_type": "markdown",
   "metadata": {},
   "source": [
    "## Market Book\n",
    "**Need to be tested during market hours**"
   ]
  },
  {
   "cell_type": "code",
   "execution_count": 32,
   "metadata": {},
   "outputs": [],
   "source": [
    "book = myStock.get_book()\n",
    "\n",
    "def PrintBidAsk(quote_dict):\n",
    "    if not quote_dict['bids'] or not quote_dict['asks']:\n",
    "        data = quote_dict['quote']\n",
    "        for side in ['Bid', 'Ask']:\n",
    "            price = data[f'iex{side}Price']\n",
    "            size = data[f'iex{side}Size']\n",
    "            \n",
    "            print(f'Last {side}: {price} x {size}')\n",
    "        \n",
    "        print(f'Updated at: {data[\"iexLastUpdated\"]}')\n",
    "    \n",
    "    else:   # Show Live Bid Ask\n",
    "        for side in ['Bid', 'Ask']:\n",
    "            price = quote_dict[side][0]['price']\n",
    "            size = quote_dict[side][0]['size']\n",
    "            \n",
    "            print(f'{side}: {price} x {size}')"
   ]
  },
  {
   "cell_type": "code",
   "execution_count": 33,
   "metadata": {},
   "outputs": [
    {
     "name": "stdout",
     "output_type": "stream",
     "text": [
      "Last Bid: None x None\n",
      "Last Ask: None x None\n",
      "Updated at: None\n"
     ]
    }
   ],
   "source": [
    "PrintBidAsk(book)"
   ]
  },
  {
   "cell_type": "markdown",
   "metadata": {},
   "source": [
    "## Intraday Time Series Tick Data for Consecutive Dates\n",
    "### Work-in-Progress..."
   ]
  },
  {
   "cell_type": "code",
   "execution_count": null,
   "metadata": {},
   "outputs": [],
   "source": []
  }
 ],
 "metadata": {
  "kernelspec": {
   "display_name": "Python 3",
   "language": "python",
   "name": "python3"
  },
  "language_info": {
   "codemirror_mode": {
    "name": "ipython",
    "version": 3
   },
   "file_extension": ".py",
   "mimetype": "text/x-python",
   "name": "python",
   "nbconvert_exporter": "python",
   "pygments_lexer": "ipython3",
   "version": "3.6.3"
  }
 },
 "nbformat": 4,
 "nbformat_minor": 2
}

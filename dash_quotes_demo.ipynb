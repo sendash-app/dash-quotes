{
 "cells": [
  {
   "cell_type": "markdown",
   "metadata": {},
   "source": [
    "# Preliminaries and Enter Your Ticker Here!"
   ]
  },
  {
   "cell_type": "code",
   "execution_count": 1,
   "metadata": {},
   "outputs": [],
   "source": [
    "import numpy as np\n",
    "import pandas as pd\n",
    "\n",
    "symbol = 'FB'"
   ]
  },
  {
   "cell_type": "markdown",
   "metadata": {},
   "source": [
    "## Leading Indicators Prices"
   ]
  },
  {
   "cell_type": "code",
   "execution_count": 2,
   "metadata": {},
   "outputs": [
    {
     "data": {
      "text/plain": [
       "{'QQQ': 167.45, 'SPY': 269.92}"
      ]
     },
     "execution_count": 2,
     "metadata": {},
     "output_type": "execute_result"
    }
   ],
   "source": [
    "from iexfinance.stocks import Stock\n",
    "\n",
    "indicators = ['SPY', 'QQQ']\n",
    "batch = Stock( indicators )\n",
    "batch.get_price()"
   ]
  },
  {
   "cell_type": "code",
   "execution_count": 3,
   "metadata": {},
   "outputs": [
    {
     "name": "stdout",
     "output_type": "stream",
     "text": [
      "---SPY---\n",
      "Last: 269.92\n",
      "% Change: -0.00052\n",
      "---QQQ---\n",
      "Last: 167.45\n",
      "% Change: 0\n"
     ]
    }
   ],
   "source": [
    "quotes = batch.get_quote()\n",
    "DisplayDict = {\n",
    "    'Last': 'latestPrice',\n",
    "    '% Change': 'changePercent'\n",
    "}\n",
    "\n",
    "for sym in indicators:\n",
    "    print(f'---{sym}---')\n",
    "    for display in DisplayDict:\n",
    "        print( f'{display}: {quotes[sym][DisplayDict[display]]}')"
   ]
  },
  {
   "cell_type": "markdown",
   "metadata": {},
   "source": [
    "## Stock Description"
   ]
  },
  {
   "cell_type": "code",
   "execution_count": 28,
   "metadata": {},
   "outputs": [],
   "source": [
    "from iexfinance.stocks import Stock\n",
    "\n",
    "myStock = Stock(symbol)"
   ]
  },
  {
   "cell_type": "code",
   "execution_count": 29,
   "metadata": {},
   "outputs": [
    {
     "name": "stdout",
     "output_type": "stream",
     "text": [
      "--- Company Description ---\n",
      "companyName: Facebook Inc.\n",
      "description: Facebook Inc is the world's largest online social network. Its products are Facebook, Instagram, Messenger, WhatsApp, and Oculus. Its products enable people to connect and share through mobile devices and personal computers.\n",
      "exchange: Nasdaq Global Select\n"
     ]
    }
   ],
   "source": [
    "info = myStock.get_company()\n",
    "lKeyInfo = ['companyName', 'description', 'exchange']\n",
    "\n",
    "print('--- Company Description ---')\n",
    "for key in lKeyInfo:\n",
    "    print(f'{key}: {info[key]}')"
   ]
  },
  {
   "cell_type": "code",
   "execution_count": 30,
   "metadata": {},
   "outputs": [
    {
     "name": "stdout",
     "output_type": "stream",
     "text": [
      "--- Key Stats ---\n",
      "beta: 0.913787\n",
      "dividendRate: 0\n",
      "exDividendDate: 0\n",
      "priceToBook: 5.62\n",
      "priceToSales: 8.604919\n",
      "sharesOutstanding: 2853989800\n",
      "week52high: 218.62\n",
      "week52low: 123.02\n"
     ]
    }
   ],
   "source": [
    "stats = myStock.get_key_stats()\n",
    "lKeyStats = [ 'beta', 'dividendRate', 'exDividendDate',\n",
    "            'priceToBook', 'priceToSales', 'sharesOutstanding',\n",
    "            'week52high', 'week52low']\n",
    "\n",
    "print('--- Key Stats ---')\n",
    "for key in lKeyStats:\n",
    "    print( f'{key}: {stats[key]}')"
   ]
  },
  {
   "cell_type": "code",
   "execution_count": 31,
   "metadata": {},
   "outputs": [
    {
     "data": {
      "image/png": "[encoded data removed]",
      "text/plain": [
       "<IPython.core.display.Image object>"
      ]
     },
     "execution_count": 31,
     "metadata": {},
     "output_type": "execute_result"
    }
   ],
   "source": [
    "logo = myStock.get_logo()\n",
    "\n",
    "from IPython.display import Image\n",
    "Image(logo['url'])"
   ]
  },
  {
   "cell_type": "markdown",
   "metadata": {},
   "source": [
    "## Market Book\n",
    "**Need to be tested during market hours**"
   ]
  },
  {
   "cell_type": "code",
   "execution_count": 18,
   "metadata": {},
   "outputs": [],
   "source": [
    "myStock = Stock(symbol)\n",
    "book = myStock.get_book()\n",
    "\n",
    "def TimeConvert_UTC( UTCTime, OutZone):\n",
    "    from datetime import datetime\n",
    "    from dateutil import tz\n",
    "    \n",
    "    from_zone = tz.gettz('UTC')\n",
    "    to_zone = tz.gettz(OutZone)\n",
    "    \n",
    "    utc = datetime.strptime\n",
    "\n",
    "def PrintBidAsk(quote_dict):\n",
    "    if not quote_dict['bids'] or not quote_dict['asks']:\n",
    "        data = quote_dict['quote']\n",
    "        for side in ['Bid', 'Ask']:\n",
    "            price = data[f'iex{side}Price']\n",
    "            size = data[f'iex{side}Size']\n",
    "            \n",
    "            print(f'Last {side}: {price} x {size}')\n",
    "        \n",
    "        print(f'Updated at: {data[\"iexLastUpdated\"]}')\n",
    "    \n",
    "    else:   # Show Live Bid Ask\n",
    "        for side in ['bids', 'asks']:\n",
    "            price = quote_dict[side][0]['price']\n",
    "            size = quote_dict[side][0]['size']\n",
    "            \n",
    "            print(f'{side}: {price} x {size}')"
   ]
  },
  {
   "cell_type": "code",
   "execution_count": 19,
   "metadata": {},
   "outputs": [
    {
     "name": "stdout",
     "output_type": "stream",
     "text": [
      "Last Bid: 0 x 0\n",
      "Last Ask: 0 x 0\n",
      "Updated at: 1549313999952\n"
     ]
    }
   ],
   "source": [
    "PrintBidAsk(book)"
   ]
  },
  {
   "cell_type": "code",
   "execution_count": 17,
   "metadata": {},
   "outputs": [
    {
     "data": {
      "text/plain": [
       "{'asks': [{'price': 166.43, 'size': 200, 'timestamp': 1549292661171},\n",
       "  {'price': 168, 'size': 121, 'timestamp': 1549291229030},\n",
       "  {'price': 170.48, 'size': 100, 'timestamp': 1549290943007},\n",
       "  {'price': 172.09, 'size': 100, 'timestamp': 1549290601954},\n",
       "  {'price': 175, 'size': 100, 'timestamp': 1549290602657},\n",
       "  {'price': 178, 'size': 300, 'timestamp': 1549290602660},\n",
       "  {'price': 180, 'size': 200, 'timestamp': 1549290602651},\n",
       "  {'price': 200, 'size': 250, 'timestamp': 1549290601922}],\n",
       " 'bids': [{'price': 166.35, 'size': 100, 'timestamp': 1549292662974},\n",
       "  {'price': 166.31, 'size': 100, 'timestamp': 1549292650016},\n",
       "  {'price': 120, 'size': 100, 'timestamp': 1549290606899},\n",
       "  {'price': 98.44, 'size': 112, 'timestamp': 1549290600062}],\n",
       " 'quote': {'avgTotalVolume': 28528671,\n",
       "  'calculationPrice': 'tops',\n",
       "  'change': 0.72,\n",
       "  'changePercent': 0.00434,\n",
       "  'close': 165.71,\n",
       "  'closeTime': 1549054800529,\n",
       "  'companyName': 'Facebook Inc.',\n",
       "  'delayedPrice': 166.57,\n",
       "  'delayedPriceTime': 1549291760628,\n",
       "  'extendedChange': 0,\n",
       "  'extendedChangePercent': 0,\n",
       "  'extendedPrice': 166.43,\n",
       "  'extendedPriceTime': 1549292647165,\n",
       "  'high': 166.95,\n",
       "  'iexAskPrice': 166.43,\n",
       "  'iexAskSize': 200,\n",
       "  'iexBidPrice': 166.35,\n",
       "  'iexBidSize': 100,\n",
       "  'iexLastUpdated': 1549292647165,\n",
       "  'iexMarketPercent': 0.01744,\n",
       "  'iexRealtimePrice': 166.43,\n",
       "  'iexRealtimeSize': 200,\n",
       "  'iexVolume': 57935,\n",
       "  'latestPrice': 166.43,\n",
       "  'latestSource': 'IEX real time price',\n",
       "  'latestTime': '10:04:07 AM',\n",
       "  'latestUpdate': 1549292647165,\n",
       "  'latestVolume': 3321961,\n",
       "  'low': 163.62,\n",
       "  'marketCap': 474989522414,\n",
       "  'open': 165.55,\n",
       "  'openTime': 1549290601006,\n",
       "  'peRatio': 21.99,\n",
       "  'previousClose': 165.71,\n",
       "  'primaryExchange': 'Nasdaq Global Select',\n",
       "  'sector': 'Technology',\n",
       "  'symbol': 'FB',\n",
       "  'week52High': 218.62,\n",
       "  'week52Low': 123.02,\n",
       "  'ytdChange': 0.22566959905660378},\n",
       " 'systemEvent': {'systemEvent': 'R', 'timestamp': 1549290600000},\n",
       " 'trades': [{'isISO': False,\n",
       "   'isOddLot': False,\n",
       "   'isOutsideRegularHours': False,\n",
       "   'isSinglePriceCross': False,\n",
       "   'isTradeThroughExempt': False,\n",
       "   'price': 166.43,\n",
       "   'size': 200,\n",
       "   'timestamp': 1549292647165,\n",
       "   'tradeId': 111044911},\n",
       "  {'isISO': True,\n",
       "   'isOddLot': False,\n",
       "   'isOutsideRegularHours': False,\n",
       "   'isSinglePriceCross': False,\n",
       "   'isTradeThroughExempt': False,\n",
       "   'price': 166.41,\n",
       "   'size': 100,\n",
       "   'timestamp': 1549292647165,\n",
       "   'tradeId': 111044630},\n",
       "  {'isISO': True,\n",
       "   'isOddLot': True,\n",
       "   'isOutsideRegularHours': False,\n",
       "   'isSinglePriceCross': False,\n",
       "   'isTradeThroughExempt': False,\n",
       "   'price': 166.5,\n",
       "   'size': 2,\n",
       "   'timestamp': 1549292614408,\n",
       "   'tradeId': 109537607},\n",
       "  {'isISO': False,\n",
       "   'isOddLot': False,\n",
       "   'isOutsideRegularHours': False,\n",
       "   'isSinglePriceCross': False,\n",
       "   'isTradeThroughExempt': False,\n",
       "   'price': 166.49,\n",
       "   'size': 100,\n",
       "   'timestamp': 1549292594625,\n",
       "   'tradeId': 108447259},\n",
       "  {'isISO': False,\n",
       "   'isOddLot': True,\n",
       "   'isOutsideRegularHours': False,\n",
       "   'isSinglePriceCross': False,\n",
       "   'isTradeThroughExempt': False,\n",
       "   'price': 166.46,\n",
       "   'size': 3,\n",
       "   'timestamp': 1549292592594,\n",
       "   'tradeId': 108321398},\n",
       "  {'isISO': False,\n",
       "   'isOddLot': False,\n",
       "   'isOutsideRegularHours': False,\n",
       "   'isSinglePriceCross': False,\n",
       "   'isTradeThroughExempt': False,\n",
       "   'price': 166.465,\n",
       "   'size': 100,\n",
       "   'timestamp': 1549292590719,\n",
       "   'tradeId': 108201718},\n",
       "  {'isISO': False,\n",
       "   'isOddLot': False,\n",
       "   'isOutsideRegularHours': False,\n",
       "   'isSinglePriceCross': False,\n",
       "   'isTradeThroughExempt': False,\n",
       "   'price': 166.46,\n",
       "   'size': 200,\n",
       "   'timestamp': 1549292588256,\n",
       "   'tradeId': 108071200},\n",
       "  {'isISO': True,\n",
       "   'isOddLot': False,\n",
       "   'isOutsideRegularHours': False,\n",
       "   'isSinglePriceCross': False,\n",
       "   'isTradeThroughExempt': False,\n",
       "   'price': 166.46,\n",
       "   'size': 100,\n",
       "   'timestamp': 1549292587794,\n",
       "   'tradeId': 108040005},\n",
       "  {'isISO': False,\n",
       "   'isOddLot': True,\n",
       "   'isOutsideRegularHours': False,\n",
       "   'isSinglePriceCross': False,\n",
       "   'isTradeThroughExempt': False,\n",
       "   'price': 166.385,\n",
       "   'size': 25,\n",
       "   'timestamp': 1549292584312,\n",
       "   'tradeId': 107766494},\n",
       "  {'isISO': True,\n",
       "   'isOddLot': False,\n",
       "   'isOutsideRegularHours': False,\n",
       "   'isSinglePriceCross': False,\n",
       "   'isTradeThroughExempt': False,\n",
       "   'price': 166.38,\n",
       "   'size': 100,\n",
       "   'timestamp': 1549292571534,\n",
       "   'tradeId': 107214496},\n",
       "  {'isISO': False,\n",
       "   'isOddLot': True,\n",
       "   'isOutsideRegularHours': False,\n",
       "   'isSinglePriceCross': False,\n",
       "   'isTradeThroughExempt': False,\n",
       "   'price': 166.355,\n",
       "   'size': 20,\n",
       "   'timestamp': 1549292567954,\n",
       "   'tradeId': 107089486},\n",
       "  {'isISO': False,\n",
       "   'isOddLot': False,\n",
       "   'isOutsideRegularHours': False,\n",
       "   'isSinglePriceCross': False,\n",
       "   'isTradeThroughExempt': False,\n",
       "   'price': 166.36,\n",
       "   'size': 200,\n",
       "   'timestamp': 1549292565965,\n",
       "   'tradeId': 106998024},\n",
       "  {'isISO': False,\n",
       "   'isOddLot': False,\n",
       "   'isOutsideRegularHours': False,\n",
       "   'isSinglePriceCross': False,\n",
       "   'isTradeThroughExempt': False,\n",
       "   'price': 166.03,\n",
       "   'size': 200,\n",
       "   'timestamp': 1549292510474,\n",
       "   'tradeId': 104129860},\n",
       "  {'isISO': False,\n",
       "   'isOddLot': False,\n",
       "   'isOutsideRegularHours': False,\n",
       "   'isSinglePriceCross': False,\n",
       "   'isTradeThroughExempt': False,\n",
       "   'price': 166.03,\n",
       "   'size': 200,\n",
       "   'timestamp': 1549292510468,\n",
       "   'tradeId': 104129661},\n",
       "  {'isISO': False,\n",
       "   'isOddLot': False,\n",
       "   'isOutsideRegularHours': False,\n",
       "   'isSinglePriceCross': False,\n",
       "   'isTradeThroughExempt': False,\n",
       "   'price': 166.035,\n",
       "   'size': 200,\n",
       "   'timestamp': 1549292509582,\n",
       "   'tradeId': 104081220},\n",
       "  {'isISO': False,\n",
       "   'isOddLot': False,\n",
       "   'isOutsideRegularHours': False,\n",
       "   'isSinglePriceCross': False,\n",
       "   'isTradeThroughExempt': False,\n",
       "   'price': 166.035,\n",
       "   'size': 700,\n",
       "   'timestamp': 1549292509581,\n",
       "   'tradeId': 104081084},\n",
       "  {'isISO': False,\n",
       "   'isOddLot': False,\n",
       "   'isOutsideRegularHours': False,\n",
       "   'isSinglePriceCross': False,\n",
       "   'isTradeThroughExempt': False,\n",
       "   'price': 166.035,\n",
       "   'size': 200,\n",
       "   'timestamp': 1549292509581,\n",
       "   'tradeId': 104081079},\n",
       "  {'isISO': True,\n",
       "   'isOddLot': True,\n",
       "   'isOutsideRegularHours': False,\n",
       "   'isSinglePriceCross': False,\n",
       "   'isTradeThroughExempt': False,\n",
       "   'price': 166.04,\n",
       "   'size': 48,\n",
       "   'timestamp': 1549292486068,\n",
       "   'tradeId': 102517737},\n",
       "  {'isISO': True,\n",
       "   'isOddLot': True,\n",
       "   'isOutsideRegularHours': False,\n",
       "   'isSinglePriceCross': False,\n",
       "   'isTradeThroughExempt': False,\n",
       "   'price': 166.03,\n",
       "   'size': 2,\n",
       "   'timestamp': 1549292486068,\n",
       "   'tradeId': 102517731},\n",
       "  {'isISO': False,\n",
       "   'isOddLot': False,\n",
       "   'isOutsideRegularHours': False,\n",
       "   'isSinglePriceCross': False,\n",
       "   'isTradeThroughExempt': False,\n",
       "   'price': 165.91,\n",
       "   'size': 100,\n",
       "   'timestamp': 1549292480514,\n",
       "   'tradeId': 102086064}]}"
      ]
     },
     "execution_count": 17,
     "metadata": {},
     "output_type": "execute_result"
    }
   ],
   "source": [
    "book"
   ]
  },
  {
   "cell_type": "markdown",
   "metadata": {},
   "source": [
    "## Intraday Time Series Tick Data for Consecutive Dates\n",
    "### Work-in-Progress..."
   ]
  },
  {
   "cell_type": "code",
   "execution_count": null,
   "metadata": {},
   "outputs": [],
   "source": []
  }
 ],
 "metadata": {
  "kernelspec": {
   "display_name": "Python 3",
   "language": "python",
   "name": "python3"
  },
  "language_info": {
   "codemirror_mode": {
    "name": "ipython",
    "version": 3
   },
   "file_extension": ".py",
   "mimetype": "text/x-python",
   "name": "python",
   "nbconvert_exporter": "python",
   "pygments_lexer": "ipython3",
   "version": "3.6.3"
  }
 },
 "nbformat": 4,
 "nbformat_minor": 2
}
